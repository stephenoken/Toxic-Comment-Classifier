{
 "cells": [
  {
   "cell_type": "markdown",
   "metadata": {},
   "source": [
    "# Toxic Comment Classifier\n",
    "---\n",
    "For the full the report please refer to [Toxic Comment Classifier Report](insert link here)."
   ]
  },
  {
   "cell_type": "markdown",
   "metadata": {},
   "source": [
    "The goal of this classifier is to be able to identify if a comment is toxic, severely toxic, obscene, a threat, an insult, and/or identity hate.  "
   ]
  },
  {
   "cell_type": "markdown",
   "metadata": {},
   "source": [
    "## Housekeeping \n",
    "\n",
    "In the below section section we'll be importing python modules we'll be using throughout the project. As well as some jupyter notebook specific configuration. "
   ]
  },
  {
   "cell_type": "code",
   "execution_count": 24,
   "metadata": {},
   "outputs": [
    {
     "name": "stdout",
     "output_type": "stream",
     "text": [
      "[nltk_data] Downloading package stopwords to\n",
      "[nltk_data]     /Users/stephen.okennedy/nltk_data...\n",
      "[nltk_data]   Unzipping corpora/stopwords.zip.\n"
     ]
    }
   ],
   "source": [
    "# Import libraries necessary for this project\n",
    "import nltk\n",
    "import numpy as np\n",
    "import pandas as pd\n",
    "import matplotlib.pyplot as plt    \n",
    "from functools import reduce\n",
    "import seaborn as sns\n",
    "from io import StringIO\n",
    "from wordcloud import WordCloud\n",
    "import re\n",
    "from sklearn.feature_extraction.text import TfidfVectorizer\n",
    "from nltk.corpus import stopwords\n",
    "from nltk.stem.porter import PorterStemmer\n",
    "from  sklearn.model_selection import train_test_split\n",
    "import pickle \n",
    "\n",
    "\n",
    "nltk.download(\"stopwords\")\n",
    "\n",
    "sns.set(style=\"white\")\n",
    "\n",
    "# Pretty display for notebooks\n",
    "%matplotlib inline\n",
    "\n",
    "#load the Toxic Comment data \n",
    "data = pd.read_csv('./data/train.csv')\n",
    "\n",
    "# print(\"Toxic comment coprus:\")\n",
    "# print(\"has {} rows with {} columns\".format(*data.shape))\n",
    "# print(\"{} are null / empty\".format(data[data[\"comment\"].is]))"
   ]
  },
  {
   "cell_type": "markdown",
   "metadata": {},
   "source": [
    "## Exploraty Data Analysis\n",
    "\n",
    "Our first step is to understand the data set we're working with. In this section we want to perfrom the following analysis of dataset: \n",
    "- Dimensions of the data set \n",
    "- Data Inspection\n",
    "- Completeness of data set \n",
    "- Identify the distribution of labels\n",
    "- Frequencies of words used for each label "
   ]
  },
  {
   "cell_type": "markdown",
   "metadata": {},
   "source": [
    "### Dimensions of the data set"
   ]
  },
  {
   "cell_type": "code",
   "execution_count": 25,
   "metadata": {},
   "outputs": [
    {
     "name": "stdout",
     "output_type": "stream",
     "text": [
      "The data set has 159571 rows with 8 columns\n"
     ]
    }
   ],
   "source": [
    "print(\"The data set has {} rows with {} columns\".format(*data.shape))"
   ]
  },
  {
   "cell_type": "markdown",
   "metadata": {},
   "source": [
    "### Data Inspection"
   ]
  },
  {
   "cell_type": "code",
   "execution_count": 26,
   "metadata": {},
   "outputs": [
    {
     "data": {
      "text/plain": [
       "id               object\n",
       "comment_text     object\n",
       "toxic             int64\n",
       "severe_toxic      int64\n",
       "obscene           int64\n",
       "threat            int64\n",
       "insult            int64\n",
       "identity_hate     int64\n",
       "dtype: object"
      ]
     },
     "execution_count": 26,
     "metadata": {},
     "output_type": "execute_result"
    }
   ],
   "source": [
    "data.dtypes"
   ]
  },
  {
   "cell_type": "markdown",
   "metadata": {},
   "source": [
    "As we can see our dataframe is made of 8 columns. The latter 6 are our target labels. They contain only binary values 0 for false and 1 for true. The `comment_text` column contains the comment as a string."
   ]
  },
  {
   "cell_type": "code",
   "execution_count": 27,
   "metadata": {
    "scrolled": false
   },
   "outputs": [
    {
     "data": {
      "text/html": [
       "<div>\n",
       "<style scoped>\n",
       "    .dataframe tbody tr th:only-of-type {\n",
       "        vertical-align: middle;\n",
       "    }\n",
       "\n",
       "    .dataframe tbody tr th {\n",
       "        vertical-align: top;\n",
       "    }\n",
       "\n",
       "    .dataframe thead th {\n",
       "        text-align: right;\n",
       "    }\n",
       "</style>\n",
       "<table border=\"1\" class=\"dataframe\">\n",
       "  <thead>\n",
       "    <tr style=\"text-align: right;\">\n",
       "      <th></th>\n",
       "      <th>id</th>\n",
       "      <th>comment_text</th>\n",
       "      <th>toxic</th>\n",
       "      <th>severe_toxic</th>\n",
       "      <th>obscene</th>\n",
       "      <th>threat</th>\n",
       "      <th>insult</th>\n",
       "      <th>identity_hate</th>\n",
       "    </tr>\n",
       "  </thead>\n",
       "  <tbody>\n",
       "    <tr>\n",
       "      <th>0</th>\n",
       "      <td>0000997932d777bf</td>\n",
       "      <td>Explanation\\nWhy the edits made under my usern...</td>\n",
       "      <td>0</td>\n",
       "      <td>0</td>\n",
       "      <td>0</td>\n",
       "      <td>0</td>\n",
       "      <td>0</td>\n",
       "      <td>0</td>\n",
       "    </tr>\n",
       "    <tr>\n",
       "      <th>1</th>\n",
       "      <td>000103f0d9cfb60f</td>\n",
       "      <td>D'aww! He matches this background colour I'm s...</td>\n",
       "      <td>0</td>\n",
       "      <td>0</td>\n",
       "      <td>0</td>\n",
       "      <td>0</td>\n",
       "      <td>0</td>\n",
       "      <td>0</td>\n",
       "    </tr>\n",
       "    <tr>\n",
       "      <th>2</th>\n",
       "      <td>000113f07ec002fd</td>\n",
       "      <td>Hey man, I'm really not trying to edit war. It...</td>\n",
       "      <td>0</td>\n",
       "      <td>0</td>\n",
       "      <td>0</td>\n",
       "      <td>0</td>\n",
       "      <td>0</td>\n",
       "      <td>0</td>\n",
       "    </tr>\n",
       "    <tr>\n",
       "      <th>3</th>\n",
       "      <td>0001b41b1c6bb37e</td>\n",
       "      <td>\"\\nMore\\nI can't make any real suggestions on ...</td>\n",
       "      <td>0</td>\n",
       "      <td>0</td>\n",
       "      <td>0</td>\n",
       "      <td>0</td>\n",
       "      <td>0</td>\n",
       "      <td>0</td>\n",
       "    </tr>\n",
       "    <tr>\n",
       "      <th>4</th>\n",
       "      <td>0001d958c54c6e35</td>\n",
       "      <td>You, sir, are my hero. Any chance you remember...</td>\n",
       "      <td>0</td>\n",
       "      <td>0</td>\n",
       "      <td>0</td>\n",
       "      <td>0</td>\n",
       "      <td>0</td>\n",
       "      <td>0</td>\n",
       "    </tr>\n",
       "    <tr>\n",
       "      <th>5</th>\n",
       "      <td>00025465d4725e87</td>\n",
       "      <td>\"\\n\\nCongratulations from me as well, use the ...</td>\n",
       "      <td>0</td>\n",
       "      <td>0</td>\n",
       "      <td>0</td>\n",
       "      <td>0</td>\n",
       "      <td>0</td>\n",
       "      <td>0</td>\n",
       "    </tr>\n",
       "    <tr>\n",
       "      <th>6</th>\n",
       "      <td>0002bcb3da6cb337</td>\n",
       "      <td>COCKSUCKER BEFORE YOU PISS AROUND ON MY WORK</td>\n",
       "      <td>1</td>\n",
       "      <td>1</td>\n",
       "      <td>1</td>\n",
       "      <td>0</td>\n",
       "      <td>1</td>\n",
       "      <td>0</td>\n",
       "    </tr>\n",
       "    <tr>\n",
       "      <th>7</th>\n",
       "      <td>00031b1e95af7921</td>\n",
       "      <td>Your vandalism to the Matt Shirvington article...</td>\n",
       "      <td>0</td>\n",
       "      <td>0</td>\n",
       "      <td>0</td>\n",
       "      <td>0</td>\n",
       "      <td>0</td>\n",
       "      <td>0</td>\n",
       "    </tr>\n",
       "    <tr>\n",
       "      <th>8</th>\n",
       "      <td>00037261f536c51d</td>\n",
       "      <td>Sorry if the word 'nonsense' was offensive to ...</td>\n",
       "      <td>0</td>\n",
       "      <td>0</td>\n",
       "      <td>0</td>\n",
       "      <td>0</td>\n",
       "      <td>0</td>\n",
       "      <td>0</td>\n",
       "    </tr>\n",
       "    <tr>\n",
       "      <th>9</th>\n",
       "      <td>00040093b2687caa</td>\n",
       "      <td>alignment on this subject and which are contra...</td>\n",
       "      <td>0</td>\n",
       "      <td>0</td>\n",
       "      <td>0</td>\n",
       "      <td>0</td>\n",
       "      <td>0</td>\n",
       "      <td>0</td>\n",
       "    </tr>\n",
       "  </tbody>\n",
       "</table>\n",
       "</div>"
      ],
      "text/plain": [
       "                 id                                       comment_text  toxic  \\\n",
       "0  0000997932d777bf  Explanation\\nWhy the edits made under my usern...      0   \n",
       "1  000103f0d9cfb60f  D'aww! He matches this background colour I'm s...      0   \n",
       "2  000113f07ec002fd  Hey man, I'm really not trying to edit war. It...      0   \n",
       "3  0001b41b1c6bb37e  \"\\nMore\\nI can't make any real suggestions on ...      0   \n",
       "4  0001d958c54c6e35  You, sir, are my hero. Any chance you remember...      0   \n",
       "5  00025465d4725e87  \"\\n\\nCongratulations from me as well, use the ...      0   \n",
       "6  0002bcb3da6cb337       COCKSUCKER BEFORE YOU PISS AROUND ON MY WORK      1   \n",
       "7  00031b1e95af7921  Your vandalism to the Matt Shirvington article...      0   \n",
       "8  00037261f536c51d  Sorry if the word 'nonsense' was offensive to ...      0   \n",
       "9  00040093b2687caa  alignment on this subject and which are contra...      0   \n",
       "\n",
       "   severe_toxic  obscene  threat  insult  identity_hate  \n",
       "0             0        0       0       0              0  \n",
       "1             0        0       0       0              0  \n",
       "2             0        0       0       0              0  \n",
       "3             0        0       0       0              0  \n",
       "4             0        0       0       0              0  \n",
       "5             0        0       0       0              0  \n",
       "6             1        1       0       1              0  \n",
       "7             0        0       0       0              0  \n",
       "8             0        0       0       0              0  \n",
       "9             0        0       0       0              0  "
      ]
     },
     "execution_count": 27,
     "metadata": {},
     "output_type": "execute_result"
    }
   ],
   "source": [
    "data.head(n=10)"
   ]
  },
  {
   "cell_type": "markdown",
   "metadata": {},
   "source": [
    "As we can see in the above table comments that contain mixed case characters. As well as escaped characters such as `\\n`. "
   ]
  },
  {
   "cell_type": "markdown",
   "metadata": {},
   "source": [
    "### Completeness of data set"
   ]
  },
  {
   "cell_type": "code",
   "execution_count": 28,
   "metadata": {},
   "outputs": [
    {
     "name": "stdout",
     "output_type": "stream",
     "text": [
      "Does the data contain missing data? : \n",
      "id               False\n",
      "comment_text     False\n",
      "toxic            False\n",
      "severe_toxic     False\n",
      "obscene          False\n",
      "threat           False\n",
      "insult           False\n",
      "identity_hate    False\n",
      "dtype: bool\n",
      "Shortest comments length: 6\n",
      "\n"
     ]
    },
    {
     "data": {
      "text/html": [
       "<div>\n",
       "<style scoped>\n",
       "    .dataframe tbody tr th:only-of-type {\n",
       "        vertical-align: middle;\n",
       "    }\n",
       "\n",
       "    .dataframe tbody tr th {\n",
       "        vertical-align: top;\n",
       "    }\n",
       "\n",
       "    .dataframe thead th {\n",
       "        text-align: right;\n",
       "    }\n",
       "</style>\n",
       "<table border=\"1\" class=\"dataframe\">\n",
       "  <thead>\n",
       "    <tr style=\"text-align: right;\">\n",
       "      <th></th>\n",
       "      <th>id</th>\n",
       "      <th>comment_text</th>\n",
       "      <th>toxic</th>\n",
       "      <th>severe_toxic</th>\n",
       "      <th>obscene</th>\n",
       "      <th>threat</th>\n",
       "      <th>insult</th>\n",
       "      <th>identity_hate</th>\n",
       "    </tr>\n",
       "  </thead>\n",
       "  <tbody>\n",
       "    <tr>\n",
       "      <th>52442</th>\n",
       "      <td>8c4c53001134f290</td>\n",
       "      <td>14:53,</td>\n",
       "      <td>0</td>\n",
       "      <td>0</td>\n",
       "      <td>0</td>\n",
       "      <td>0</td>\n",
       "      <td>0</td>\n",
       "      <td>0</td>\n",
       "    </tr>\n",
       "    <tr>\n",
       "      <th>137062</th>\n",
       "      <td>dd5ac2c49ec34efa</td>\n",
       "      <td>~ J.Lo</td>\n",
       "      <td>0</td>\n",
       "      <td>0</td>\n",
       "      <td>0</td>\n",
       "      <td>0</td>\n",
       "      <td>0</td>\n",
       "      <td>0</td>\n",
       "    </tr>\n",
       "  </tbody>\n",
       "</table>\n",
       "</div>"
      ],
      "text/plain": [
       "                      id comment_text  toxic  severe_toxic  obscene  threat  \\\n",
       "52442   8c4c53001134f290       14:53,      0             0        0       0   \n",
       "137062  dd5ac2c49ec34efa       ~ J.Lo      0             0        0       0   \n",
       "\n",
       "        insult  identity_hate  \n",
       "52442        0              0  \n",
       "137062       0              0  "
      ]
     },
     "execution_count": 28,
     "metadata": {},
     "output_type": "execute_result"
    }
   ],
   "source": [
    "print(\"Does the data contain missing data? : \")\n",
    "print(pd.isnull(data).any())\n",
    "print(\"Shortest comments length: {}\".format(min(data[\"comment_text\"].apply(len))))\n",
    "print(\"\")\n",
    "data[(data[\"comment_text\"].apply(len)) == 6]"
   ]
  },
  {
   "cell_type": "markdown",
   "metadata": {},
   "source": [
    "### Identify the distribution of labels"
   ]
  },
  {
   "cell_type": "code",
   "execution_count": 29,
   "metadata": {},
   "outputs": [],
   "source": [
    "rowsums = data.iloc[:,2:].sum(axis=1)\n",
    "temp_data = data.copy()\n",
    "temp_data['clean'] = (rowsums == 0)"
   ]
  },
  {
   "cell_type": "code",
   "execution_count": 30,
   "metadata": {},
   "outputs": [
    {
     "name": "stdout",
     "output_type": "stream",
     "text": [
      "\n",
      "Percentage of toxic comments: 9.58%\n",
      "Percentage of severe_toxic comments: 1.00%\n",
      "Percentage of obscene comments: 5.29%\n",
      "Percentage of threat comments: 0.30%\n",
      "Percentage of insult comments: 4.94%\n",
      "Percentage of identity_hate comments: 0.88%\n",
      "Percentage of clean comments: 89.83%\n"
     ]
    }
   ],
   "source": [
    "labels = temp_data.columns[2:]\n",
    "\n",
    "def calculate_label_proportions(label):\n",
    "    proportion = temp_data[temp_data[label] == 1].shape[0] / temp_data.shape[0] \n",
    "    return \"Percentage of {} comments: {:.2%}\".format(label, proportion)\n",
    "\n",
    "label_distribution = reduce(lambda res, cur: \"\\n\".join([res, calculate_label_proportions(cur)]), labels, \"\")\n",
    "\n",
    "print(label_distribution)"
   ]
  },
  {
   "cell_type": "code",
   "execution_count": 31,
   "metadata": {},
   "outputs": [],
   "source": [
    "# For addressing class imbalances\n",
    "# from sklearn.utils import class_weight\n",
    "\n",
    "# class_weight = class_weight.compute_class_weight('balanced',\n",
    "#                                                  np.unique(y_train),\n",
    "#                                                  y_train)\n",
    "# model.fit(X_train, y_train, class_weight=class_weight)\n"
   ]
  },
  {
   "cell_type": "markdown",
   "metadata": {},
   "source": [
    "We can see in the above code block that our data set is very unbalanced. With none of the labels coming near 10% of the data set let alone anywhere near 50%. When we go to train our network we want to be sure that we take steps to ensure our models give a true output of it's \"accuracy\". Therefore, we can initailly rule out the use of arithmatic mean (A.K.A accuracy) as our evaluation method. Furthermore, given that we're trying to perform to build a classifier that can output multiple classification the ROC AUC evaluation metric would be a good choice. "
   ]
  },
  {
   "cell_type": "code",
   "execution_count": 32,
   "metadata": {},
   "outputs": [
    {
     "data": {
      "text/plain": [
       "toxic             15294.0\n",
       "severe_toxic       1595.0\n",
       "obscene            8449.0\n",
       "threat              478.0\n",
       "insult             7877.0\n",
       "identity_hate      1405.0\n",
       "clean            143346.0\n",
       "dtype: float64"
      ]
     },
     "execution_count": 32,
     "metadata": {},
     "output_type": "execute_result"
    },
    {
     "data": {
      "image/png": "[encoded data removed]",
      "text/plain": [
       "<Figure size 864x288 with 1 Axes>"
      ]
     },
     "metadata": {},
     "output_type": "display_data"
    }
   ],
   "source": [
    "x = temp_data[labels].sum()\n",
    "plt.figure(figsize=(12,4))\n",
    "ax= sns.barplot(x.index, x.values, alpha=0.8)\n",
    "plt.title(\"Number of Occurances Per Class\")\n",
    "plt.ylabel('Number of Occurrences', fontsize=12)\n",
    "plt.xlabel('Comment Type ', fontsize=12)\n",
    "\n",
    "x"
   ]
  },
  {
   "cell_type": "markdown",
   "metadata": {},
   "source": [
    "We see that the `toxic` comment is the most common of the toxicity comment types. From looking at the head of the comments we see that a comment can be classed as one or more of the toxicity comment types. Therefore, we should look to identify any correlations one comment type would have with others."
   ]
  },
  {
   "cell_type": "code",
   "execution_count": 33,
   "metadata": {},
   "outputs": [],
   "source": [
    "# TODO: Confusion matrix"
   ]
  },
  {
   "cell_type": "markdown",
   "metadata": {},
   "source": [
    "It is also worth exlporing the frequency of certain words that appear in each of toxicity columns as well as the clean column. To visualise the word frequency we'll use word cloud diagrams for each category."
   ]
  },
  {
   "cell_type": "code",
   "execution_count": 34,
   "metadata": {},
   "outputs": [],
   "source": [
    "def concat_strings(label):\n",
    "    string_io = StringIO() \n",
    "    comments = temp_data[temp_data[label] == 1].comment_text\n",
    "    comments.apply(lambda x: string_io.write(str(x)))\n",
    "    text = string_io.getvalue()\n",
    "    string_io.close()\n",
    "    return text\n",
    "\n",
    "# fig = plt.figure(figsize=(20,30))\n",
    "\n",
    "# for i, label in enumerate(labels):\n",
    "#     text = concat_strings(label)\n",
    "#     wordcloud = WordCloud().generate(text)\n",
    "#     wordcloud = WordCloud(max_words=len(text), relative_scaling=.5).generate(text)\n",
    "#     fig.add_subplot(7, 1, i + 1)\n",
    "#     plt.imshow(wordcloud)\n",
    "#     plt.xlabel(\"{} comments\".format(label))\n",
    "\n",
    "\n",
    "# plt.show()\n",
    "    "
   ]
  },
  {
   "cell_type": "code",
   "execution_count": 35,
   "metadata": {},
   "outputs": [
    {
     "data": {
      "text/plain": [
       "<matplotlib.axes._subplots.AxesSubplot at 0x11b9c5518>"
      ]
     },
     "execution_count": 35,
     "metadata": {},
     "output_type": "execute_result"
    },
    {
     "data": {
      "image/png": "[encoded data removed]",
      "text/plain": [
       "<Figure size 2160x2160 with 4 Axes>"
      ]
     },
     "metadata": {},
     "output_type": "display_data"
    }
   ],
   "source": [
    "# str.isupper(temp_data[\"comment_text\"].iloc[6])\n",
    "\n",
    "# TODO violin graph comment length\n",
    "sns.set(color_codes=True)\n",
    "\n",
    "# Load the example tips dataset\n",
    "temp_data['comment_word_count'] = temp_data['comment_text'].apply(lambda x: len(str.split(x)))\n",
    "temp_data['comment_sentance_count'] = temp_data['comment_text'].apply(lambda x: len(re.split('[\\.|!|\\n]', x)))\n",
    "fig = plt.figure(figsize=(30,30))\n",
    "\n",
    "\n",
    "fig.add_subplot(2, 2, 1)\n",
    "sns.violinplot(x='toxic', y='comment_word_count', data=temp_data, split=True, inner=\"quart\", pallette={0:'b', 1:'r'})\n",
    "fig.add_subplot(2, 2, 2)\n",
    "sns.violinplot(x='toxic', y='comment_sentance_count', data=temp_data, split=True, inner=\"quart\", pallette={0:'b', 1:'r'})\n",
    "fig.add_subplot(2, 2, 3)\n",
    "sns.violinplot(x='obscene', y='comment_word_count', data=temp_data, split=True, inner=\"quart\", pallette={0:'b', 1:'r'})\n",
    "fig.add_subplot(2, 2, 4)\n",
    "sns.violinplot(x='obscene', y='comment_sentance_count', data=temp_data, split=True, inner=\"quart\", pallette={0:'b', 1:'r'})\n",
    "\n",
    "# TODO violin graph comment frequency of uppercase words"
   ]
  },
  {
   "cell_type": "code",
   "execution_count": 36,
   "metadata": {},
   "outputs": [
    {
     "data": {
      "text/html": [
       "<div>\n",
       "<style scoped>\n",
       "    .dataframe tbody tr th:only-of-type {\n",
       "        vertical-align: middle;\n",
       "    }\n",
       "\n",
       "    .dataframe tbody tr th {\n",
       "        vertical-align: top;\n",
       "    }\n",
       "\n",
       "    .dataframe thead th {\n",
       "        text-align: right;\n",
       "    }\n",
       "</style>\n",
       "<table border=\"1\" class=\"dataframe\">\n",
       "  <thead>\n",
       "    <tr style=\"text-align: right;\">\n",
       "      <th></th>\n",
       "      <th>toxic</th>\n",
       "      <th>severe_toxic</th>\n",
       "      <th>obscene</th>\n",
       "      <th>threat</th>\n",
       "      <th>insult</th>\n",
       "      <th>identity_hate</th>\n",
       "      <th>comment_word_count</th>\n",
       "      <th>comment_sentance_count</th>\n",
       "    </tr>\n",
       "  </thead>\n",
       "  <tbody>\n",
       "    <tr>\n",
       "      <th>count</th>\n",
       "      <td>159571.000000</td>\n",
       "      <td>159571.000000</td>\n",
       "      <td>159571.000000</td>\n",
       "      <td>159571.000000</td>\n",
       "      <td>159571.000000</td>\n",
       "      <td>159571.000000</td>\n",
       "      <td>159571.000000</td>\n",
       "      <td>159571.000000</td>\n",
       "    </tr>\n",
       "    <tr>\n",
       "      <th>mean</th>\n",
       "      <td>0.095844</td>\n",
       "      <td>0.009996</td>\n",
       "      <td>0.052948</td>\n",
       "      <td>0.002996</td>\n",
       "      <td>0.049364</td>\n",
       "      <td>0.008805</td>\n",
       "      <td>67.273527</td>\n",
       "      <td>8.536376</td>\n",
       "    </tr>\n",
       "    <tr>\n",
       "      <th>std</th>\n",
       "      <td>0.294379</td>\n",
       "      <td>0.099477</td>\n",
       "      <td>0.223931</td>\n",
       "      <td>0.054650</td>\n",
       "      <td>0.216627</td>\n",
       "      <td>0.093420</td>\n",
       "      <td>99.230702</td>\n",
       "      <td>28.581049</td>\n",
       "    </tr>\n",
       "    <tr>\n",
       "      <th>min</th>\n",
       "      <td>0.000000</td>\n",
       "      <td>0.000000</td>\n",
       "      <td>0.000000</td>\n",
       "      <td>0.000000</td>\n",
       "      <td>0.000000</td>\n",
       "      <td>0.000000</td>\n",
       "      <td>1.000000</td>\n",
       "      <td>1.000000</td>\n",
       "    </tr>\n",
       "    <tr>\n",
       "      <th>25%</th>\n",
       "      <td>0.000000</td>\n",
       "      <td>0.000000</td>\n",
       "      <td>0.000000</td>\n",
       "      <td>0.000000</td>\n",
       "      <td>0.000000</td>\n",
       "      <td>0.000000</td>\n",
       "      <td>17.000000</td>\n",
       "      <td>3.000000</td>\n",
       "    </tr>\n",
       "    <tr>\n",
       "      <th>50%</th>\n",
       "      <td>0.000000</td>\n",
       "      <td>0.000000</td>\n",
       "      <td>0.000000</td>\n",
       "      <td>0.000000</td>\n",
       "      <td>0.000000</td>\n",
       "      <td>0.000000</td>\n",
       "      <td>36.000000</td>\n",
       "      <td>5.000000</td>\n",
       "    </tr>\n",
       "    <tr>\n",
       "      <th>75%</th>\n",
       "      <td>0.000000</td>\n",
       "      <td>0.000000</td>\n",
       "      <td>0.000000</td>\n",
       "      <td>0.000000</td>\n",
       "      <td>0.000000</td>\n",
       "      <td>0.000000</td>\n",
       "      <td>75.000000</td>\n",
       "      <td>9.000000</td>\n",
       "    </tr>\n",
       "    <tr>\n",
       "      <th>max</th>\n",
       "      <td>1.000000</td>\n",
       "      <td>1.000000</td>\n",
       "      <td>1.000000</td>\n",
       "      <td>1.000000</td>\n",
       "      <td>1.000000</td>\n",
       "      <td>1.000000</td>\n",
       "      <td>1411.000000</td>\n",
       "      <td>4945.000000</td>\n",
       "    </tr>\n",
       "  </tbody>\n",
       "</table>\n",
       "</div>"
      ],
      "text/plain": [
       "               toxic   severe_toxic        obscene         threat  \\\n",
       "count  159571.000000  159571.000000  159571.000000  159571.000000   \n",
       "mean        0.095844       0.009996       0.052948       0.002996   \n",
       "std         0.294379       0.099477       0.223931       0.054650   \n",
       "min         0.000000       0.000000       0.000000       0.000000   \n",
       "25%         0.000000       0.000000       0.000000       0.000000   \n",
       "50%         0.000000       0.000000       0.000000       0.000000   \n",
       "75%         0.000000       0.000000       0.000000       0.000000   \n",
       "max         1.000000       1.000000       1.000000       1.000000   \n",
       "\n",
       "              insult  identity_hate  comment_word_count  \\\n",
       "count  159571.000000  159571.000000       159571.000000   \n",
       "mean        0.049364       0.008805           67.273527   \n",
       "std         0.216627       0.093420           99.230702   \n",
       "min         0.000000       0.000000            1.000000   \n",
       "25%         0.000000       0.000000           17.000000   \n",
       "50%         0.000000       0.000000           36.000000   \n",
       "75%         0.000000       0.000000           75.000000   \n",
       "max         1.000000       1.000000         1411.000000   \n",
       "\n",
       "       comment_sentance_count  \n",
       "count           159571.000000  \n",
       "mean                 8.536376  \n",
       "std                 28.581049  \n",
       "min                  1.000000  \n",
       "25%                  3.000000  \n",
       "50%                  5.000000  \n",
       "75%                  9.000000  \n",
       "max               4945.000000  "
      ]
     },
     "execution_count": 36,
     "metadata": {},
     "output_type": "execute_result"
    }
   ],
   "source": [
    "temp_data.describe()"
   ]
  },
  {
   "cell_type": "markdown",
   "metadata": {},
   "source": [
    "In the above the table we see that the longest comment has approximately  1411 words."
   ]
  },
  {
   "cell_type": "markdown",
   "metadata": {},
   "source": [
    "## Data Preprcessing \n",
    "Now that we've performed our data analysis we'll begin our work on preporcessing the data. We want to apply several methods for preprocessing our data. The first method is to use the bag of words technique and (word frequency). Then we want to use Word2Vec and GloVe. Below we will define several functions that will take in the raw comments and preprocess them."
   ]
  },
  {
   "cell_type": "markdown",
   "metadata": {},
   "source": [
    "### Pre Processing Steps\n",
    "The first preprocessing step we'll take is to clean the text before processing it into vectors."
   ]
  },
  {
   "cell_type": "code",
   "execution_count": 37,
   "metadata": {},
   "outputs": [
    {
     "data": {
      "text/plain": [
       "'\"\\n\\nBI, you said you wanted to talk\\n\\nAt the bottom of the lead section you have written:\\n\\n\"\"Its promoter speculated in 1994 that the skyhook concept could be cost competitive with what is realistically thought to be achievable using a space elevator, but the skyhook is not competitive with other rotating tether concepts. In addition, the rotating skyhook is in fact deemed \"\"not engineeringly feasible using presently available materials\"\".\"\"\\n\\nRegarding:  In addition, the rotating skyhook is in fac'"
      ]
     },
     "execution_count": 37,
     "metadata": {},
     "output_type": "execute_result"
    }
   ],
   "source": [
    "data.loc[50, 'comment_text'][:500]"
   ]
  },
  {
   "cell_type": "markdown",
   "metadata": {},
   "source": [
    "As we can see above, some of the comments contain escapped characters, punctuation, and other non-alphanumeric characters. Our inital preprocessing step is to remove all non alphabetical characters. By removing the escaped characters we'll be able to make the text cleaner. However, by removing some of the punctuation we could loose some semantic information. Particularly if we have a user quoting another user's comment or wikipedia that has unsavory text in it."
   ]
  },
  {
   "cell_type": "code",
   "execution_count": 38,
   "metadata": {},
   "outputs": [],
   "source": [
    "def text_preprocessor(text : str)-> str:\n",
    "    regex = r\"(\\n|\\t|\\d|[^\\s\\w])+\"\n",
    "    partially_processed_text = re.sub(regex, ' ', text.lower(), 0, re.MULTILINE)\n",
    "    return re.sub(r\" +\",' ', partially_processed_text).strip().split()\n",
    "# result = re.sub(regex, subst, test_str, 0, re.MULTILINE)\n",
    "\n",
    "# print(text_preprocessor(data.loc[50, 'comment_text'][:500]))\n",
    "\n",
    "import re, string\n",
    "re_tok = re.compile(f'([{string.punctuation}“”¨«»®´·º½¾¿¡§£₤‘’])')\n",
    "def tokenize(s):\n",
    "    return re_tok.sub(r' \\1 ', s).split()\n",
    " "
   ]
  },
  {
   "cell_type": "markdown",
   "metadata": {},
   "source": [
    "As we can now see in the table above we've removed punctuations and escaped characters. We also converted the text to lower case. \n"
   ]
  },
  {
   "cell_type": "code",
   "execution_count": 39,
   "metadata": {},
   "outputs": [],
   "source": [
    "X = data['comment_text']\n",
    "y = data[data.columns[2:]]\n",
    "processed_data_set = train_test_split(X, y, test_size=0.33, random_state=42)\n",
    "X_train_raw, X_test_raw, y_train, y_test = processed_data_set"
   ]
  },
  {
   "cell_type": "code",
   "execution_count": 40,
   "metadata": {},
   "outputs": [],
   "source": [
    "import os \n",
    "processed_data_set_filename = \"./pickles/data-set.p\"\n",
    "os.makedirs(os.path.dirname(processed_data_set_filename), exist_ok=True)\n",
    "pickle.dump(processed_data_set, open(processed_data_set_filename, 'wb'))"
   ]
  },
  {
   "cell_type": "markdown",
   "metadata": {},
   "source": [
    "### Bags of Words\n",
    "Now that we've cleaned up the text up our text we're going to begin covnerting our text into numerical data. Our initial method for doing this will be using the **bag of words** model. This will involve us to create a vocabulary of unique tokens. Then we'll create a feature vector from each comment contianing the counts of how often each word occurs within it."
   ]
  },
  {
   "cell_type": "code",
   "execution_count": 41,
   "metadata": {},
   "outputs": [],
   "source": [
    "# Below is a helper function for treating lists as applicative functors\n",
    "def applicative(func, xs, ys):\n",
    "    return [func(x, y) for x in xs for y in ys]\n"
   ]
  },
  {
   "cell_type": "code",
   "execution_count": 42,
   "metadata": {},
   "outputs": [],
   "source": [
    "tfidf = TfidfVectorizer(strip_accents=None, preprocessor=None, lowercase=False)\n",
    "\n",
    "ngram_range = applicative(lambda x, y: (x, y), range(1,5), range(1, 5))\n",
    "stop = stopwords.words('english')\n",
    "porter = PorterStemmer()\n",
    "\n",
    "def tokenizer(text):\n",
    "    return text.split()\n",
    "\n",
    "\n",
    "def tokenizer_porter(text):\n",
    "    return [porter.stem(word) for word in text.split()]\n",
    "\n",
    "param_grid = [{'vect__ngram_range': ngram_range,\n",
    "               'vect__stop_words': [None],\n",
    "               'vect__tokenizer': [tokenizer],\n",
    "               'clf__alpha' : [.25, .5 , .75, 1.0]\n",
    "              }\n",
    "              ]\n",
    "\n",
    "from sklearn.naive_bayes import MultinomialNB\n",
    "from sklearn.pipeline import Pipeline\n",
    "from sklearn.model_selection import GridSearchCV\n",
    "\n",
    "mnb_tfidf = Pipeline([('vect', tfidf), ('clf', MultinomialNB())])\n",
    "gs_mnb_tfidf = GridSearchCV(mnb_tfidf, param_grid,\n",
    "                           scoring='roc_auc',\n",
    "                           cv=5,\n",
    "                           verbose=1,\n",
    "                           n_jobs=-1)\n",
    "# Below naive model"
   ]
  },
  {
   "cell_type": "code",
   "execution_count": 43,
   "metadata": {},
   "outputs": [],
   "source": [
    "vec = TfidfVectorizer(ngram_range=(1,2), tokenizer=text_preprocessor,\n",
    "               min_df=3, max_df=0.9, strip_accents='unicode', use_idf=1,\n",
    "               smooth_idf=1, sublinear_tf=1 )\n",
    "X_train = vec.fit_transform(X_train_raw)\n",
    "X_test = vec.transform(X_test_raw)"
   ]
  },
  {
   "cell_type": "code",
   "execution_count": 44,
   "metadata": {},
   "outputs": [
    {
     "data": {
      "text/plain": [
       "53456.0"
      ]
     },
     "execution_count": 44,
     "metadata": {},
     "output_type": "execute_result"
    }
   ],
   "source": [
    "X_train, X_test\n",
    "# np.savez_compressed(X_test, open('./pickles/x-test.npz', 'wb'))\n",
    "# np.savez_compressed('./pickles/data.npz',\n",
    "#                    X_train=X_train,\n",
    "#                    y_train=y_train,\n",
    "#                    X_test=X_test,\n",
    "#                    y_test=y_test)\n",
    "X_train.shape[0] / 2"
   ]
  },
  {
   "cell_type": "markdown",
   "metadata": {},
   "source": [
    "## Naive Benchmarking\n",
    "\n",
    "Our initial experiment is to first assert that we can classify comments with an accuracy of greater than 50%, which indicates random they we're able to make better predictions than merely guessing the toxicity of a comment. We therefore decidied to first use Multinominal Naive Bayes. "
   ]
  },
  {
   "cell_type": "code",
   "execution_count": 45,
   "metadata": {},
   "outputs": [],
   "source": [
    "def create_classifiers(classifier, X, y, comment_type):\n",
    "    clfs = classifier \n",
    "    clfs.fit(X, y[comment_type])\n",
    "    return clfs\n",
    "clfs = MultinomialNB(alpha=.01)\n",
    "classifiers = [create_classifiers(clfs, X_train, y_train, comment_type) for comment_type in y_train.columns]\n",
    "# pickle.dump(classifiers, open('./pickles/naive-classifiers.p', 'wb'))\n",
    "# print(X_test[0])"
   ]
  },
  {
   "cell_type": "code",
   "execution_count": 46,
   "metadata": {},
   "outputs": [],
   "source": [
    "def predict_proba(clfs, x):\n",
    "    return [clf.predict_proba(x)[0][1] for clf in clfs]\n",
    "\n",
    "def predict(clfs, x):\n",
    "    return [clf.predict(x)[0] for clf in clfs]"
   ]
  },
  {
   "cell_type": "code",
   "execution_count": 47,
   "metadata": {},
   "outputs": [
    {
     "data": {
      "text/plain": [
       "0.9101602209401095"
      ]
     },
     "execution_count": 47,
     "metadata": {},
     "output_type": "execute_result"
    }
   ],
   "source": [
    "from sklearn.metrics import roc_auc_score\n",
    "y_pred = [predict_proba(classifiers, x) for x in X_test]\n",
    "roc_auc_score(y_test, y_pred)"
   ]
  },
  {
   "cell_type": "markdown",
   "metadata": {},
   "source": [
    "As we can see above achieved an roc_auc_score of `~0.94`. \n",
    "\n",
    "## SVM NB bench marking \n",
    "\n",
    "From reading (this paper)[https://nlp.stanford.edu/pubs/sidaw12_simple_sentiment.pdf]  we may be able to build a more robust classifier befre develing into the use of CNN and RNN for sentimental analysis. Unfortuantely this model is not available out of the box from sklearn. Therefore we'll have to create our own implementation. It is also worth mentioning that from reading this paper using Logistic Regression instead of SVM will yield similar results. Therefore, instead of using SVM, mainly due to it's perfromance issues, we'll instead user Sklearn's Logistic Regression model."
   ]
  },
  {
   "cell_type": "code",
   "execution_count": 48,
   "metadata": {},
   "outputs": [],
   "source": [
    "from sklearn.base import BaseEstimator, ClassifierMixin\n",
    "from sklearn.utils.validation import check_X_y, check_is_fitted\n",
    "from sklearn.linear_model import LogisticRegression\n",
    "from scipy import sparse\n",
    "\n",
    "class NbSvmClassifier(BaseEstimator, ClassifierMixin):\n",
    "    def __init__(self, C=1.0, dual=False, n_jobs=1):\n",
    "        self.C = C\n",
    "        self.dual = dual\n",
    "        self.n_jobs = n_jobs\n",
    "    \n",
    "    def predict(self, x):\n",
    "        # Verify that model has been fit\n",
    "        check_is_fitted(self, ['_r', '_clf'])\n",
    "        return self._clf.predict(x.multiply(self._r))\n",
    "\n",
    "    def predict_proba(self, x):\n",
    "        # Verify that model has been fit\n",
    "        check_is_fitted(self, ['_r', '_clf'])\n",
    "        return self._clf.predict_proba(x.multiply(self._r))\n",
    "    \n",
    "    def fit(self, x, y):\n",
    "        y = y.values\n",
    "        x, y = check_X_y(x, y, accept_sparse=True)\n",
    "        self._r = sparse.csr_matrix(np.log(self._pr(x,1,y) / self._pr(x,0,y)))\n",
    "        x_nb = x.multiply(self._r)\n",
    "        self._clf = LogisticRegression(C=self.C, dual=self.dual, n_jobs=self.n_jobs).fit(x_nb, y)\n",
    "        return self\n",
    "    \n",
    "    \n",
    "    def _pr(self, x, y_i, y):\n",
    "        p = x[y==y_i].sum(0)\n",
    "        return (p+1) / ((y==y_i).sum()+1)\n",
    "\n",
    "    \n"
   ]
  },
  {
   "cell_type": "code",
   "execution_count": 49,
   "metadata": {},
   "outputs": [],
   "source": [
    "cls = NbSvmClassifier(1.0)\n",
    "cls = cls.fit(X_train, y_train['toxic'])"
   ]
  },
  {
   "cell_type": "code",
   "execution_count": 50,
   "metadata": {},
   "outputs": [],
   "source": [
    "cls.predict(vec.transform([data['comment_text'].iloc[6]]))\n",
    "classifiers = [create_classifiers(NbSvmClassifier(1.0), X_train, y_train, comment_type) for comment_type in y_train.columns]"
   ]
  },
  {
   "cell_type": "code",
   "execution_count": 51,
   "metadata": {},
   "outputs": [
    {
     "ename": "SyntaxError",
     "evalue": "invalid syntax (<ipython-input-51-09173fdf7c57>, line 2)",
     "output_type": "error",
     "traceback": [
      "\u001b[0;36m  File \u001b[0;32m\"<ipython-input-51-09173fdf7c57>\"\u001b[0;36m, line \u001b[0;32m2\u001b[0m\n\u001b[0;31m    with open(\"./src/result.p\", 'rb') as f\u001b[0m\n\u001b[0m                                          ^\u001b[0m\n\u001b[0;31mSyntaxError\u001b[0m\u001b[0;31m:\u001b[0m invalid syntax\n"
     ]
    }
   ],
   "source": [
    "# y_pred = [predict_proba(classifiers, x) for x in X_test]\n",
    "with open(\"./src/result.p\", 'rb') as f\n",
    "    y_pred = pickle.load(f)\n",
    "    roc_auc_score(y_test, y_pred)"
   ]
  },
  {
   "cell_type": "markdown",
   "metadata": {},
   "source": [
    "As we cn see in the above the evaluation score, we achieved at score of ~`0.982`"
   ]
  }
 ],
 "metadata": {
  "kernelspec": {
   "display_name": "Python 3",
   "language": "python",
   "name": "python3"
  },
  "language_info": {
   "codemirror_mode": {
    "name": "ipython",
    "version": 3
   },
   "file_extension": ".py",
   "mimetype": "text/x-python",
   "name": "python",
   "nbconvert_exporter": "python",
   "pygments_lexer": "ipython3",
   "version": "3.6.5"
  }
 },
 "nbformat": 4,
 "nbformat_minor": 2
}
