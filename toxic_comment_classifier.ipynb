{
 "cells": [
  {
   "cell_type": "markdown",
   "metadata": {},
   "source": [
    "# Toxic Comment Classifier\n",
    "---\n",
    "For the full the report please refer to [Toxic Comment Classifier Report](insert link here)."
   ]
  },
  {
   "cell_type": "markdown",
   "metadata": {},
   "source": [
    "## Housekeeping \n",
    "\n",
    "In the below section section we'll be importing python modules we'll be using throughout the project. As well as some jupyter notebook specific configuration. "
   ]
  },
  {
   "cell_type": "code",
   "execution_count": 15,
   "metadata": {},
   "outputs": [],
   "source": [
    "# Import libraries necessary for this project\n",
    "import numpy as np\n",
    "import pandas as pd\n",
    "import matplot\n",
    "\n",
    "# Pretty display for notebooks\n",
    "%matplotlib inline\n",
    "\n",
    "#load the Toxic Comment data \n",
    "data = pd.read_csv('./data/train.csv')\n",
    "\n",
    "# print(\"Toxic comment coprus:\")\n",
    "# print(\"has {} rows with {} columns\".format(*data.shape))\n",
    "# print(\"{} are null / empty\".format(data[data[\"comment\"].is]))"
   ]
  },
  {
   "cell_type": "markdown",
   "metadata": {},
   "source": [
    "## Data Analysis\n",
    "\n",
    "Our first step is to understand the dataset we're working with. In this section we want to perfrom the following analysis of dataset: \n",
    "- Identify the distribution of labels\n",
    "- Frequencies of various "
   ]
  },
  {
   "cell_type": "code",
   "execution_count": null,
   "metadata": {},
   "outputs": [],
   "source": []
  }
 ],
 "metadata": {
  "kernelspec": {
   "display_name": "Python 3",
   "language": "python",
   "name": "python3"
  },
  "language_info": {
   "codemirror_mode": {
    "name": "ipython",
    "version": 3
   },
   "file_extension": ".py",
   "mimetype": "text/x-python",
   "name": "python",
   "nbconvert_exporter": "python",
   "pygments_lexer": "ipython3",
   "version": "3.6.5"
  }
 },
 "nbformat": 4,
 "nbformat_minor": 2
}
