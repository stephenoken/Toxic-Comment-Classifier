{
 "cells": [
  {
   "cell_type": "markdown",
   "metadata": {},
   "source": [
    "# Toxic Comment Classifier DNN \n",
    "\n",
    "This notebook will focus on the use of Deep Neural Networks to tackle the problem of tox comment classification. Starting from the work done in the `toxic-comment-classifier-classical-model.ipynb"
   ]
  },
  {
   "cell_type": "code",
   "execution_count": 6,
   "metadata": {},
   "outputs": [],
   "source": [
    "import pandas as pd \n",
    "from  sklearn.model_selection import train_test_split\n",
    "\n",
    "data = pd.read_csv('./data/train.csv')\n",
    "\n",
    "X = data['comment_text']\n",
    "y = data[data.columns[2:]]\n",
    "\n",
    "# processed_data_set = train_test_split(X, y, test_size=0.33, random_state=42)\n",
    "# X_train_raw, X_test_raw, y_train, y_test = processed_data_set"
   ]
  },
  {
   "cell_type": "markdown",
   "metadata": {},
   "source": [
    "In the above code we've started off loading and splitting our data into test/training datasets. We've appended `raw` to the `X_[train|test]` because the comments will be need to be processed and converted to vectors before being feed into a nueural network. \n",
    "\n",
    "## Prepraring the data\n",
    "\n",
    "We'll need to convert our comments to vectors. We're going to do this by assigning an unique ID to each word in our corpus. We'll then convert our comments into vectors  \n"
   ]
  },
  {
   "cell_type": "code",
   "execution_count": 7,
   "metadata": {},
   "outputs": [],
   "source": [
    "import pyprind \n",
    "import string \n",
    "import re \n",
    "import numpy as np \n",
    "from collections import Counter \n",
    "from functools import reduce "
   ]
  },
  {
   "cell_type": "code",
   "execution_count": 8,
   "metadata": {},
   "outputs": [],
   "source": [
    "# counts = Counter()\n",
    "if False:\n",
    "    pbar = pyprind.ProgBar(len(X), title='Counting Word Occurances')\n",
    "\n",
    "    def concat_counts(counter_series, comment):\n",
    "        counter_res, series_res = counter_series\n",
    "        text = ''.join([c if c not in string.punctuation else ' ' + c + ' ' for c in comment]).lower()\n",
    "        pbar.update()\n",
    "        counter = Counter()\n",
    "        counter.update(text.split())\n",
    "        return(counter_res + counter, series_res.append(pd.Series(text)))\n",
    "\n",
    "    # for i, comment in enumerate(X[:10]):\n",
    "    #     text = ''.join([c if c not in string.punctuation else ' ' + c + ' ' for c in comment]).lower()\n",
    "    #     pbar.update()\n",
    "\n",
    "    counts, X_encoded = reduce(concat_counts, X, (Counter(), pd.Series())) \n",
    "\n",
    "    word_counts = sorted(counts, key=counts.get, reverse=True)\n",
    "\n",
    "    word_2_int = {word: ii for ii, word in enumerate(word_counts, 1)}\n",
    "\n",
    "    pbar = pyprind.ProgBar(len(X), title='Map comments to ints')\n",
    "\n",
    "    def map_comments(comment):\n",
    "        mapped_comments = [word_2_int[word] for word in comment.split()]\n",
    "        pbar.update()\n",
    "        return mapped_comments\n",
    "\n",
    "    x_mapped = pd.Series(map(map_comments, X_encoded))\n",
    "\n",
    "    print(x_mapped.iloc[:5])"
   ]
  },
  {
   "cell_type": "code",
   "execution_count": 9,
   "metadata": {},
   "outputs": [],
   "source": [
    "# import pickle \n",
    "# pickle.dump(x_mapped, open('./pickles/mapped-comments.p', 'wb'))"
   ]
  },
  {
   "cell_type": "code",
   "execution_count": 10,
   "metadata": {},
   "outputs": [
    {
     "name": "stdout",
     "output_type": "stream",
     "text": [
      "4729\n",
      "0    [707, 91, 2, 145, 148, 198, 42, 693, 4530, 116...\n",
      "1    [184, 9, 16714, 16, 64, 2655, 19, 576, 3810, 6...\n",
      "2    [434, 445, 3, 6, 9, 83, 152, 21, 276, 5, 90, 3...\n",
      "3    [4, 72, 6, 48, 9, 32, 114, 69, 352, 1457, 23, ...\n",
      "4    [10, 3, 1699, 3, 28, 42, 3469, 1, 69, 1088, 10...\n",
      "dtype: object\n"
     ]
    }
   ],
   "source": [
    "from bounter import bounter \n",
    "\n",
    "def process_comment(comment):\n",
    "    characters = [c.lower() if c not in string.punctuation else ' ' + c + ' ' for c in comment]\n",
    "    return ''.join(characters).split()\n",
    "\n",
    "counts = bounter(size_mb=4096)\n",
    "X_processed = X.apply(process_comment)\n",
    "X_processed.apply(lambda x: counts.update(x))\n",
    "print(counts['sorry'])\n",
    "\n",
    "word_counts = sorted(counts, key=lambda x: counts[x], reverse=True)\n",
    "\n",
    "word_2_int = {word: ii for ii, word in enumerate(word_counts, 1)}\n",
    "\n",
    "def map_comments(comment):\n",
    "    mapped_comments = [word_2_int[word] for word in comment]\n",
    "    return mapped_comments\n",
    "    \n",
    "X_encoded = pd.Series(map(map_comments, X_processed))\n",
    "\n",
    "print(X_encoded.iloc[:5])"
   ]
  },
  {
   "cell_type": "markdown",
   "metadata": {},
   "source": [
    "We're now going to reduce the sequence length for all of our comments. This will be our first hyper parameter that we can tweak. For simplicity we'll hardcode our sequence length to 75 words. 75 was chosen because it was the value for the 75th percentile of the `comment_word_count` in the temp_data dataframe."
   ]
  },
  {
   "cell_type": "code",
   "execution_count": 11,
   "metadata": {},
   "outputs": [],
   "source": [
    "# TODO: refactor this as part of the predict and fit methods\n",
    "sequence_length = 75\n",
    "sequences = np.zeros((len(X_encoded), sequence_length), dtype=int)\n",
    "\n",
    "for i, row in enumerate(X_encoded):\n",
    "    comments_arr = np.array(row)\n",
    "    sequences[i, -len(row):] = comments_arr[-sequence_length:]"
   ]
  },
  {
   "cell_type": "code",
   "execution_count": 12,
   "metadata": {},
   "outputs": [],
   "source": [
    "X_train, X_test, y_train, y_test =  train_test_split(sequences, y, test_size=0.33, random_state=42)"
   ]
  },
  {
   "cell_type": "code",
   "execution_count": 13,
   "metadata": {},
   "outputs": [
    {
     "data": {
      "text/plain": [
       "<generator object create_batch_generator at 0x7f5fd544c5c8>"
      ]
     },
     "execution_count": 13,
     "metadata": {},
     "output_type": "execute_result"
    }
   ],
   "source": [
    "np.random.seed(123)\n",
    "\n",
    "def create_batch_generator(x, y=None, batch_size=64):\n",
    "    n_batches = len(x)\n",
    "    x = x[: n_batches * batch_size]\n",
    "    if y is not None:\n",
    "        y = y[:n_batches * batch_size]\n",
    "    for ii in range(0, len(x), batch_size):\n",
    "        if y is not None:\n",
    "            yield x[ii: ii + batch_size], y[ii: ii + batch_size]\n",
    "        else:\n",
    "            yield x[ii: ii + batch_size]\n",
    "                \n",
    "xs = create_batch_generator(X_train)\n",
    "xs"
   ]
  },
  {
   "cell_type": "code",
   "execution_count": 52,
   "metadata": {},
   "outputs": [],
   "source": [
    "import tensorflow as tf \n",
    "\n",
    "# n_words = max(list(word_2_int.values())) + 1\n",
    "# embedding = tf.Variable(tf.random_uniform(shape=(n_words, 256), minval=-1, maxval=1))\n",
    "\n",
    "# embed_x = tf.nn.embedding_lookup(embedding, )\n",
    "\n",
    "class ToxicRNN(object):\n",
    "    def __init__(self, n_words, seq_len=75, lstm_size=256, num_layers=1, batch_size=64, learning_rate=.0001, embed_size=200):\n",
    "        self.n_words = n_words\n",
    "        self.seq_len = seq_len\n",
    "        self.lstm_size = lstm_size\n",
    "        self.num_layers = num_layers\n",
    "        self.batch_size = batch_size\n",
    "        self.learning_rate = learning_rate\n",
    "        self.embed_size = embed_size\n",
    "        \n",
    "        self.g = tf.Graph()\n",
    "        with self.g.as_default():\n",
    "            tf.set_random_seed(123)\n",
    "            self.build()\n",
    "            self.saver = tf.train.Saver()\n",
    "            self.init_op = tf.global_variables_initializer()\n",
    "            \n",
    "    def build(self):\n",
    "        ## Define the placholders \n",
    "        tf_x = tf.placeholder(tf.int32, shape=(self.batch_size, self.seq_len),\n",
    "                             name='tf_x')\n",
    "        tf_y = tf.placeholder(tf.float32, shape=(self.batch_size), name='tf_y')\n",
    "        tf_keepprob = tf.placeholder(tf.float32, name='tf_keepprob')\n",
    "        \n",
    "        ## Define LSTM cell and stack them together\n",
    "        embedding = tf.Variable(tf.random_uniform(shape=(self.n_words, self.embed_size), minval=-1, maxval=1),\n",
    "                               name=\"embedding\")\n",
    "        embed_x = tf.nn.embedding_lookup(embedding, tf_x, name=\"embedded_x\")\n",
    "        \n",
    "        ## Define LSTM cell and stack them together \n",
    "        cells = tf.contrib.rnn.MultiRNNCell([\n",
    "            tf.contrib.rnn.DropoutWrapper(\n",
    "            tf.contrib.rnn.BasicLSTMCell(self.lstm_size), output_keep_prob=tf_keepprob)\n",
    "            for i in range(self.num_layers)\n",
    "        ])\n",
    "        \n",
    "        ## Define the initial state\n",
    "        self.initial_state = cells.zero_state(self.batch_size, tf.float32)\n",
    "        print(' << initial state >> ', self.initial_state)\n",
    "        \n",
    "        lstm_outputs, self.final_state = tf.nn.dynamic_rnn(cells, embed_x, initial_state=self.initial_state)\n",
    "        \n",
    "        ## Note: lstm_outputs shape:\n",
    "        ## [batch_size, max_time, cells.output_size]\n",
    "        print('\\n << lst_output >>', lstm_outputs)\n",
    "        print('\\n << final state >>', self.final_state)\n",
    "        \n",
    "        logits = tf.layers.dense(\n",
    "            inputs=lstm_outputs[:, -1],\n",
    "            units=1, activation=None,\n",
    "            name='logits')\n",
    "        \n",
    "        logits = tf.squeeze(logits, name='logits_squeezed')\n",
    "        print('\\n << logits >>', logits)\n",
    "        \n",
    "        y_proba = tf.nn.sigmoid(logits, name='probabilities')\n",
    "        predictions = {\n",
    "            'probabilities': y_proba,\n",
    "            'labels': tf.cast(tf.round(y_proba), tf.int32,\n",
    "                             name='labels')\n",
    "        }\n",
    "        \n",
    "        ## Define the cost function \n",
    "        cost = tf.reduce_mean(\n",
    "            tf.nn.sigmoid_cross_entropy_with_logits(\n",
    "                labels=tf_y, logits=logits), name='cost'\n",
    "            )\n",
    "        \n",
    "        ## Define the optimiser \n",
    "        optimizer = tf.train.AdamOptimizer(self.learning_rate)\n",
    "        train_op = optimizer.minimize(cost, name='train_op')\n",
    "        \n",
    "    def train(self, X_train, y_train, num_epochs):\n",
    "        with tf.Session(graph=self.g) as sess:\n",
    "            sess.run(self.init_op)\n",
    "            iteration = 1\n",
    "            for epoch in range(num_epochs):\n",
    "                state = sess.run(self.initial_state)\n",
    "                \n",
    "                for  batch_x, batch_y in create_batch_generator(\n",
    "                    X_train, y_train, self.batch_size):\n",
    "                    feed = {'tf_x:0': batch_x,\n",
    "                           'tf_y:0': batch_y,\n",
    "                           'tf_keepprob:0': .5,\n",
    "                           self.initial_state: state}\n",
    "                    loss, _, state = sess.run(\n",
    "                        ['cost:0', 'train_op', self.final_state], feed_dict=feed\n",
    "                    )\n",
    "                    \n",
    "                    if iteration % 20 == 0:\n",
    "                        print(\"Epoch: %d/%d Iteration: %d \"\n",
    "                              \"| Train loss: %.5f\" % (epoch + 1, num_epochs, iteration, loss))\n",
    "                    iteration += 1 \n",
    "                    if(epoch + 1) % 10 == 0:\n",
    "                        self.saver.save(sess, \"model/sentiment-%d.ckpt\" % epoch)\n",
    "            \n",
    "    def predict(self, X_data, return_proba=False):\n",
    "        preds = []\n",
    "        with tf.Session(graph = self.g) as sess:\n",
    "            self.saver.restore(\n",
    "                sess, tf.train.latest_checkpoint('./model'))\n",
    "            test_state = sess.run(self.initial_state)\n",
    "            for ii, batch_x in enumerate(create_batch_generator(X_data, None, batch_size=self.batch_size), 1):\n",
    "                feed = {'tf_x:0': batch_x,\n",
    "                       'tf_keepprob:0': 1.0,\n",
    "                       self.initial_state: test_state}\n",
    "                if return_proba:\n",
    "                    pred, test_state = sess.run(['probabilities:0', self.final_state],\n",
    "                                               feed_dict=feed)\n",
    "                else:\n",
    "                    pred, test_state = sess.run(\n",
    "                        ['labels:0', self.final_state],\n",
    "                        feed_dict=feed)\n",
    "                preds.append(pred)\n",
    "        return np.concatenate(preds)"
   ]
  },
  {
   "cell_type": "code",
   "execution_count": 61,
   "metadata": {},
   "outputs": [
    {
     "name": "stdout",
     "output_type": "stream",
     "text": [
      " << initial state >>  (LSTMStateTuple(c=<tf.Tensor 'MultiRNNCellZeroState/DropoutWrapperZeroState/BasicLSTMCellZeroState/zeros:0' shape=(64, 128) dtype=float32>, h=<tf.Tensor 'MultiRNNCellZeroState/DropoutWrapperZeroState/BasicLSTMCellZeroState/zeros_1:0' shape=(64, 128) dtype=float32>), LSTMStateTuple(c=<tf.Tensor 'MultiRNNCellZeroState/DropoutWrapperZeroState_1/BasicLSTMCellZeroState/zeros:0' shape=(64, 128) dtype=float32>, h=<tf.Tensor 'MultiRNNCellZeroState/DropoutWrapperZeroState_1/BasicLSTMCellZeroState/zeros_1:0' shape=(64, 128) dtype=float32>), LSTMStateTuple(c=<tf.Tensor 'MultiRNNCellZeroState/DropoutWrapperZeroState_2/BasicLSTMCellZeroState/zeros:0' shape=(64, 128) dtype=float32>, h=<tf.Tensor 'MultiRNNCellZeroState/DropoutWrapperZeroState_2/BasicLSTMCellZeroState/zeros_1:0' shape=(64, 128) dtype=float32>), LSTMStateTuple(c=<tf.Tensor 'MultiRNNCellZeroState/DropoutWrapperZeroState_3/BasicLSTMCellZeroState/zeros:0' shape=(64, 128) dtype=float32>, h=<tf.Tensor 'MultiRNNCellZeroState/DropoutWrapperZeroState_3/BasicLSTMCellZeroState/zeros_1:0' shape=(64, 128) dtype=float32>), LSTMStateTuple(c=<tf.Tensor 'MultiRNNCellZeroState/DropoutWrapperZeroState_4/BasicLSTMCellZeroState/zeros:0' shape=(64, 128) dtype=float32>, h=<tf.Tensor 'MultiRNNCellZeroState/DropoutWrapperZeroState_4/BasicLSTMCellZeroState/zeros_1:0' shape=(64, 128) dtype=float32>), LSTMStateTuple(c=<tf.Tensor 'MultiRNNCellZeroState/DropoutWrapperZeroState_5/BasicLSTMCellZeroState/zeros:0' shape=(64, 128) dtype=float32>, h=<tf.Tensor 'MultiRNNCellZeroState/DropoutWrapperZeroState_5/BasicLSTMCellZeroState/zeros_1:0' shape=(64, 128) dtype=float32>), LSTMStateTuple(c=<tf.Tensor 'MultiRNNCellZeroState/DropoutWrapperZeroState_6/BasicLSTMCellZeroState/zeros:0' shape=(64, 128) dtype=float32>, h=<tf.Tensor 'MultiRNNCellZeroState/DropoutWrapperZeroState_6/BasicLSTMCellZeroState/zeros_1:0' shape=(64, 128) dtype=float32>), LSTMStateTuple(c=<tf.Tensor 'MultiRNNCellZeroState/DropoutWrapperZeroState_7/BasicLSTMCellZeroState/zeros:0' shape=(64, 128) dtype=float32>, h=<tf.Tensor 'MultiRNNCellZeroState/DropoutWrapperZeroState_7/BasicLSTMCellZeroState/zeros_1:0' shape=(64, 128) dtype=float32>), LSTMStateTuple(c=<tf.Tensor 'MultiRNNCellZeroState/DropoutWrapperZeroState_8/BasicLSTMCellZeroState/zeros:0' shape=(64, 128) dtype=float32>, h=<tf.Tensor 'MultiRNNCellZeroState/DropoutWrapperZeroState_8/BasicLSTMCellZeroState/zeros_1:0' shape=(64, 128) dtype=float32>), LSTMStateTuple(c=<tf.Tensor 'MultiRNNCellZeroState/DropoutWrapperZeroState_9/BasicLSTMCellZeroState/zeros:0' shape=(64, 128) dtype=float32>, h=<tf.Tensor 'MultiRNNCellZeroState/DropoutWrapperZeroState_9/BasicLSTMCellZeroState/zeros_1:0' shape=(64, 128) dtype=float32>))\n",
      "\n",
      " << lst_output >> Tensor(\"rnn/transpose_1:0\", shape=(64, 75, 128), dtype=float32)\n",
      "\n",
      " << final state >> (LSTMStateTuple(c=<tf.Tensor 'rnn/while/Exit_3:0' shape=(64, 128) dtype=float32>, h=<tf.Tensor 'rnn/while/Exit_4:0' shape=(64, 128) dtype=float32>), LSTMStateTuple(c=<tf.Tensor 'rnn/while/Exit_5:0' shape=(64, 128) dtype=float32>, h=<tf.Tensor 'rnn/while/Exit_6:0' shape=(64, 128) dtype=float32>), LSTMStateTuple(c=<tf.Tensor 'rnn/while/Exit_7:0' shape=(64, 128) dtype=float32>, h=<tf.Tensor 'rnn/while/Exit_8:0' shape=(64, 128) dtype=float32>), LSTMStateTuple(c=<tf.Tensor 'rnn/while/Exit_9:0' shape=(64, 128) dtype=float32>, h=<tf.Tensor 'rnn/while/Exit_10:0' shape=(64, 128) dtype=float32>), LSTMStateTuple(c=<tf.Tensor 'rnn/while/Exit_11:0' shape=(64, 128) dtype=float32>, h=<tf.Tensor 'rnn/while/Exit_12:0' shape=(64, 128) dtype=float32>), LSTMStateTuple(c=<tf.Tensor 'rnn/while/Exit_13:0' shape=(64, 128) dtype=float32>, h=<tf.Tensor 'rnn/while/Exit_14:0' shape=(64, 128) dtype=float32>), LSTMStateTuple(c=<tf.Tensor 'rnn/while/Exit_15:0' shape=(64, 128) dtype=float32>, h=<tf.Tensor 'rnn/while/Exit_16:0' shape=(64, 128) dtype=float32>), LSTMStateTuple(c=<tf.Tensor 'rnn/while/Exit_17:0' shape=(64, 128) dtype=float32>, h=<tf.Tensor 'rnn/while/Exit_18:0' shape=(64, 128) dtype=float32>), LSTMStateTuple(c=<tf.Tensor 'rnn/while/Exit_19:0' shape=(64, 128) dtype=float32>, h=<tf.Tensor 'rnn/while/Exit_20:0' shape=(64, 128) dtype=float32>), LSTMStateTuple(c=<tf.Tensor 'rnn/while/Exit_21:0' shape=(64, 128) dtype=float32>, h=<tf.Tensor 'rnn/while/Exit_22:0' shape=(64, 128) dtype=float32>))\n",
      "\n",
      " << logits >> Tensor(\"logits_squeezed:0\", shape=(64,), dtype=float32)\n"
     ]
    }
   ],
   "source": [
    "n_words = max(list(word_2_int.values())) + 1\n",
    "\n",
    "rnn = ToxicRNN(n_words=n_words, seq_len=sequence_length, embed_size=256, lstm_size=128, \n",
    "               num_layers=10, batch_size=64, learning_rate=.001)"
   ]
  },
  {
   "cell_type": "code",
   "execution_count": null,
   "metadata": {},
   "outputs": [],
   "source": [
    "rnn.train(X_train, y_train['toxic'].iloc, num_epochs=40)"
   ]
  },
  {
   "cell_type": "code",
   "execution_count": 63,
   "metadata": {},
   "outputs": [
    {
     "name": "stdout",
     "output_type": "stream",
     "text": [
      "INFO:tensorflow:Restoring parameters from ./model/sentiment-39.ckpt\n"
     ]
    },
    {
     "data": {
      "text/plain": [
       "array([0, 0, 0, 0, 0, 0, 0, 0, 0, 0, 0, 0, 0, 0, 0, 0, 0, 0, 0, 0, 0, 0,\n",
       "       0, 0, 0, 0, 0, 0, 0, 0, 0, 0, 0, 0, 0, 0, 0, 0, 0, 0, 0, 0, 0, 0,\n",
       "       0, 0, 0, 0, 0, 0, 0, 0, 0, 0, 0, 0, 0, 0, 0, 0, 0, 0, 0, 0],\n",
       "      dtype=int32)"
      ]
     },
     "execution_count": 63,
     "metadata": {},
     "output_type": "execute_result"
    }
   ],
   "source": [
    "rnn.predict(X_test[:64])"
   ]
  }
 ],
 "metadata": {
  "kernelspec": {
   "display_name": "Python 3",
   "language": "python",
   "name": "python3"
  },
  "language_info": {
   "codemirror_mode": {
    "name": "ipython",
    "version": 3
   },
   "file_extension": ".py",
   "mimetype": "text/x-python",
   "name": "python",
   "nbconvert_exporter": "python",
   "pygments_lexer": "ipython3",
   "version": "3.5.2"
  }
 },
 "nbformat": 4,
 "nbformat_minor": 2
}
